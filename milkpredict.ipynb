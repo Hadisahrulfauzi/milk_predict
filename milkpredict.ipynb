{
  "nbformat": 4,
  "nbformat_minor": 0,
  "metadata": {
    "colab": {
      "provenance": []
    },
    "kernelspec": {
      "name": "python3",
      "display_name": "Python 3"
    },
    "language_info": {
      "name": "python"
    }
  },
  "cells": [
    {
      "cell_type": "code",
      "execution_count": 1,
      "metadata": {
        "colab": {
          "base_uri": "https://localhost:8080/",
          "height": 73
        },
        "id": "40vEUpSk847C",
        "outputId": "5c7394a9-eb44-46e2-ce3f-fcb899cc42a3"
      },
      "outputs": [
        {
          "output_type": "display_data",
          "data": {
            "text/plain": [
              "<IPython.core.display.HTML object>"
            ],
            "text/html": [
              "\n",
              "     <input type=\"file\" id=\"files-7b1b6bd3-0d40-45fd-90f5-d00582f8d638\" name=\"files[]\" multiple disabled\n",
              "        style=\"border:none\" />\n",
              "     <output id=\"result-7b1b6bd3-0d40-45fd-90f5-d00582f8d638\">\n",
              "      Upload widget is only available when the cell has been executed in the\n",
              "      current browser session. Please rerun this cell to enable.\n",
              "      </output>\n",
              "      <script>// Copyright 2017 Google LLC\n",
              "//\n",
              "// Licensed under the Apache License, Version 2.0 (the \"License\");\n",
              "// you may not use this file except in compliance with the License.\n",
              "// You may obtain a copy of the License at\n",
              "//\n",
              "//      http://www.apache.org/licenses/LICENSE-2.0\n",
              "//\n",
              "// Unless required by applicable law or agreed to in writing, software\n",
              "// distributed under the License is distributed on an \"AS IS\" BASIS,\n",
              "// WITHOUT WARRANTIES OR CONDITIONS OF ANY KIND, either express or implied.\n",
              "// See the License for the specific language governing permissions and\n",
              "// limitations under the License.\n",
              "\n",
              "/**\n",
              " * @fileoverview Helpers for google.colab Python module.\n",
              " */\n",
              "(function(scope) {\n",
              "function span(text, styleAttributes = {}) {\n",
              "  const element = document.createElement('span');\n",
              "  element.textContent = text;\n",
              "  for (const key of Object.keys(styleAttributes)) {\n",
              "    element.style[key] = styleAttributes[key];\n",
              "  }\n",
              "  return element;\n",
              "}\n",
              "\n",
              "// Max number of bytes which will be uploaded at a time.\n",
              "const MAX_PAYLOAD_SIZE = 100 * 1024;\n",
              "\n",
              "function _uploadFiles(inputId, outputId) {\n",
              "  const steps = uploadFilesStep(inputId, outputId);\n",
              "  const outputElement = document.getElementById(outputId);\n",
              "  // Cache steps on the outputElement to make it available for the next call\n",
              "  // to uploadFilesContinue from Python.\n",
              "  outputElement.steps = steps;\n",
              "\n",
              "  return _uploadFilesContinue(outputId);\n",
              "}\n",
              "\n",
              "// This is roughly an async generator (not supported in the browser yet),\n",
              "// where there are multiple asynchronous steps and the Python side is going\n",
              "// to poll for completion of each step.\n",
              "// This uses a Promise to block the python side on completion of each step,\n",
              "// then passes the result of the previous step as the input to the next step.\n",
              "function _uploadFilesContinue(outputId) {\n",
              "  const outputElement = document.getElementById(outputId);\n",
              "  const steps = outputElement.steps;\n",
              "\n",
              "  const next = steps.next(outputElement.lastPromiseValue);\n",
              "  return Promise.resolve(next.value.promise).then((value) => {\n",
              "    // Cache the last promise value to make it available to the next\n",
              "    // step of the generator.\n",
              "    outputElement.lastPromiseValue = value;\n",
              "    return next.value.response;\n",
              "  });\n",
              "}\n",
              "\n",
              "/**\n",
              " * Generator function which is called between each async step of the upload\n",
              " * process.\n",
              " * @param {string} inputId Element ID of the input file picker element.\n",
              " * @param {string} outputId Element ID of the output display.\n",
              " * @return {!Iterable<!Object>} Iterable of next steps.\n",
              " */\n",
              "function* uploadFilesStep(inputId, outputId) {\n",
              "  const inputElement = document.getElementById(inputId);\n",
              "  inputElement.disabled = false;\n",
              "\n",
              "  const outputElement = document.getElementById(outputId);\n",
              "  outputElement.innerHTML = '';\n",
              "\n",
              "  const pickedPromise = new Promise((resolve) => {\n",
              "    inputElement.addEventListener('change', (e) => {\n",
              "      resolve(e.target.files);\n",
              "    });\n",
              "  });\n",
              "\n",
              "  const cancel = document.createElement('button');\n",
              "  inputElement.parentElement.appendChild(cancel);\n",
              "  cancel.textContent = 'Cancel upload';\n",
              "  const cancelPromise = new Promise((resolve) => {\n",
              "    cancel.onclick = () => {\n",
              "      resolve(null);\n",
              "    };\n",
              "  });\n",
              "\n",
              "  // Wait for the user to pick the files.\n",
              "  const files = yield {\n",
              "    promise: Promise.race([pickedPromise, cancelPromise]),\n",
              "    response: {\n",
              "      action: 'starting',\n",
              "    }\n",
              "  };\n",
              "\n",
              "  cancel.remove();\n",
              "\n",
              "  // Disable the input element since further picks are not allowed.\n",
              "  inputElement.disabled = true;\n",
              "\n",
              "  if (!files) {\n",
              "    return {\n",
              "      response: {\n",
              "        action: 'complete',\n",
              "      }\n",
              "    };\n",
              "  }\n",
              "\n",
              "  for (const file of files) {\n",
              "    const li = document.createElement('li');\n",
              "    li.append(span(file.name, {fontWeight: 'bold'}));\n",
              "    li.append(span(\n",
              "        `(${file.type || 'n/a'}) - ${file.size} bytes, ` +\n",
              "        `last modified: ${\n",
              "            file.lastModifiedDate ? file.lastModifiedDate.toLocaleDateString() :\n",
              "                                    'n/a'} - `));\n",
              "    const percent = span('0% done');\n",
              "    li.appendChild(percent);\n",
              "\n",
              "    outputElement.appendChild(li);\n",
              "\n",
              "    const fileDataPromise = new Promise((resolve) => {\n",
              "      const reader = new FileReader();\n",
              "      reader.onload = (e) => {\n",
              "        resolve(e.target.result);\n",
              "      };\n",
              "      reader.readAsArrayBuffer(file);\n",
              "    });\n",
              "    // Wait for the data to be ready.\n",
              "    let fileData = yield {\n",
              "      promise: fileDataPromise,\n",
              "      response: {\n",
              "        action: 'continue',\n",
              "      }\n",
              "    };\n",
              "\n",
              "    // Use a chunked sending to avoid message size limits. See b/62115660.\n",
              "    let position = 0;\n",
              "    do {\n",
              "      const length = Math.min(fileData.byteLength - position, MAX_PAYLOAD_SIZE);\n",
              "      const chunk = new Uint8Array(fileData, position, length);\n",
              "      position += length;\n",
              "\n",
              "      const base64 = btoa(String.fromCharCode.apply(null, chunk));\n",
              "      yield {\n",
              "        response: {\n",
              "          action: 'append',\n",
              "          file: file.name,\n",
              "          data: base64,\n",
              "        },\n",
              "      };\n",
              "\n",
              "      let percentDone = fileData.byteLength === 0 ?\n",
              "          100 :\n",
              "          Math.round((position / fileData.byteLength) * 100);\n",
              "      percent.textContent = `${percentDone}% done`;\n",
              "\n",
              "    } while (position < fileData.byteLength);\n",
              "  }\n",
              "\n",
              "  // All done.\n",
              "  yield {\n",
              "    response: {\n",
              "      action: 'complete',\n",
              "    }\n",
              "  };\n",
              "}\n",
              "\n",
              "scope.google = scope.google || {};\n",
              "scope.google.colab = scope.google.colab || {};\n",
              "scope.google.colab._files = {\n",
              "  _uploadFiles,\n",
              "  _uploadFilesContinue,\n",
              "};\n",
              "})(self);\n",
              "</script> "
            ]
          },
          "metadata": {}
        },
        {
          "output_type": "stream",
          "name": "stdout",
          "text": [
            "Saving kaggle.json to kaggle.json\n"
          ]
        }
      ],
      "source": [
        "from google.colab import files\n",
        "uploaded = files.upload()"
      ]
    },
    {
      "cell_type": "code",
      "source": [
        "!mkdir -p ~/.kaggle\n",
        "!cp kaggle.json ~/.kaggle/\n",
        "!chmod 600 ~/.kaggle/kaggle.json\n",
        "!ls ~/.kaggle"
      ],
      "metadata": {
        "colab": {
          "base_uri": "https://localhost:8080/"
        },
        "id": "uOLd3zqi89fm",
        "outputId": "5f17f79d-4321-46c9-e436-03ebd384ae1b"
      },
      "execution_count": 2,
      "outputs": [
        {
          "output_type": "stream",
          "name": "stdout",
          "text": [
            "kaggle.json\n"
          ]
        }
      ]
    },
    {
      "cell_type": "code",
      "source": [
        "!kaggle datasets download -d cpluzshrijayan/milkquality"
      ],
      "metadata": {
        "colab": {
          "base_uri": "https://localhost:8080/"
        },
        "id": "GcF-ABMQ9FMQ",
        "outputId": "0f8ef103-fe52-4cd4-cd16-a46f0745c12a"
      },
      "execution_count": 3,
      "outputs": [
        {
          "output_type": "stream",
          "name": "stdout",
          "text": [
            "Dataset URL: https://www.kaggle.com/datasets/cpluzshrijayan/milkquality\n",
            "License(s): unknown\n",
            "Downloading milkquality.zip to /content\n",
            "  0% 0.00/1.24k [00:00<?, ?B/s]\n",
            "100% 1.24k/1.24k [00:00<00:00, 2.79MB/s]\n"
          ]
        }
      ]
    },
    {
      "cell_type": "code",
      "source": [
        "!mkdir milkquality\n",
        "!unzip milkquality.zip -d milkquality\n",
        "!ls milkquality"
      ],
      "metadata": {
        "colab": {
          "base_uri": "https://localhost:8080/"
        },
        "id": "4BW5i2sO9Hg6",
        "outputId": "f26e7e4e-72ac-4b84-e6c5-078fd394db6f"
      },
      "execution_count": 4,
      "outputs": [
        {
          "output_type": "stream",
          "name": "stdout",
          "text": [
            "Archive:  milkquality.zip\n",
            "  inflating: milkquality/milknew.csv  \n",
            "milknew.csv\n"
          ]
        }
      ]
    },
    {
      "cell_type": "code",
      "source": [
        "import pandas as pd\n",
        "from sklearn import preprocessing\n",
        "from sklearn.model_selection import train_test_split\n",
        "import numpy as np\n",
        "import tensorflow as tf\n",
        "from tensorflow import keras\n",
        "from keras.models import Sequential\n",
        "from keras.layers import Dense\n",
        "from tensorflow.keras.utils import to_categorical, plot_model"
      ],
      "metadata": {
        "id": "-eX3-04c9KLN"
      },
      "execution_count": 5,
      "outputs": []
    },
    {
      "cell_type": "code",
      "source": [
        "data = pd.read_csv('milkquality/milknew.csv')"
      ],
      "metadata": {
        "id": "ShEsZrBV9M6V"
      },
      "execution_count": 6,
      "outputs": []
    },
    {
      "cell_type": "code",
      "source": [
        "data['Grade'] = data['Grade'].map({'low': 0, 'medium': 1, 'high': 2})"
      ],
      "metadata": {
        "id": "taVxIjfc9QFd"
      },
      "execution_count": 7,
      "outputs": []
    },
    {
      "cell_type": "code",
      "source": [
        "data.head()"
      ],
      "metadata": {
        "colab": {
          "base_uri": "https://localhost:8080/",
          "height": 206
        },
        "id": "WLK1py0Q9SY0",
        "outputId": "dd596913-3d8b-4684-d65a-5239cbf391c2"
      },
      "execution_count": 8,
      "outputs": [
        {
          "output_type": "execute_result",
          "data": {
            "text/plain": [
              "    pH  Temprature  Taste  Odor  Fat   Turbidity  Colour  Grade\n",
              "0  6.6          35      1     0     1          0     254      2\n",
              "1  6.6          36      0     1     0          1     253      2\n",
              "2  8.5          70      1     1     1          1     246      0\n",
              "3  9.5          34      1     1     0          1     255      0\n",
              "4  6.6          37      0     0     0          0     255      1"
            ],
            "text/html": [
              "\n",
              "  <div id=\"df-f021e845-63a3-4963-95d8-27c696e0e1b7\" class=\"colab-df-container\">\n",
              "    <div>\n",
              "<style scoped>\n",
              "    .dataframe tbody tr th:only-of-type {\n",
              "        vertical-align: middle;\n",
              "    }\n",
              "\n",
              "    .dataframe tbody tr th {\n",
              "        vertical-align: top;\n",
              "    }\n",
              "\n",
              "    .dataframe thead th {\n",
              "        text-align: right;\n",
              "    }\n",
              "</style>\n",
              "<table border=\"1\" class=\"dataframe\">\n",
              "  <thead>\n",
              "    <tr style=\"text-align: right;\">\n",
              "      <th></th>\n",
              "      <th>pH</th>\n",
              "      <th>Temprature</th>\n",
              "      <th>Taste</th>\n",
              "      <th>Odor</th>\n",
              "      <th>Fat</th>\n",
              "      <th>Turbidity</th>\n",
              "      <th>Colour</th>\n",
              "      <th>Grade</th>\n",
              "    </tr>\n",
              "  </thead>\n",
              "  <tbody>\n",
              "    <tr>\n",
              "      <th>0</th>\n",
              "      <td>6.6</td>\n",
              "      <td>35</td>\n",
              "      <td>1</td>\n",
              "      <td>0</td>\n",
              "      <td>1</td>\n",
              "      <td>0</td>\n",
              "      <td>254</td>\n",
              "      <td>2</td>\n",
              "    </tr>\n",
              "    <tr>\n",
              "      <th>1</th>\n",
              "      <td>6.6</td>\n",
              "      <td>36</td>\n",
              "      <td>0</td>\n",
              "      <td>1</td>\n",
              "      <td>0</td>\n",
              "      <td>1</td>\n",
              "      <td>253</td>\n",
              "      <td>2</td>\n",
              "    </tr>\n",
              "    <tr>\n",
              "      <th>2</th>\n",
              "      <td>8.5</td>\n",
              "      <td>70</td>\n",
              "      <td>1</td>\n",
              "      <td>1</td>\n",
              "      <td>1</td>\n",
              "      <td>1</td>\n",
              "      <td>246</td>\n",
              "      <td>0</td>\n",
              "    </tr>\n",
              "    <tr>\n",
              "      <th>3</th>\n",
              "      <td>9.5</td>\n",
              "      <td>34</td>\n",
              "      <td>1</td>\n",
              "      <td>1</td>\n",
              "      <td>0</td>\n",
              "      <td>1</td>\n",
              "      <td>255</td>\n",
              "      <td>0</td>\n",
              "    </tr>\n",
              "    <tr>\n",
              "      <th>4</th>\n",
              "      <td>6.6</td>\n",
              "      <td>37</td>\n",
              "      <td>0</td>\n",
              "      <td>0</td>\n",
              "      <td>0</td>\n",
              "      <td>0</td>\n",
              "      <td>255</td>\n",
              "      <td>1</td>\n",
              "    </tr>\n",
              "  </tbody>\n",
              "</table>\n",
              "</div>\n",
              "    <div class=\"colab-df-buttons\">\n",
              "\n",
              "  <div class=\"colab-df-container\">\n",
              "    <button class=\"colab-df-convert\" onclick=\"convertToInteractive('df-f021e845-63a3-4963-95d8-27c696e0e1b7')\"\n",
              "            title=\"Convert this dataframe to an interactive table.\"\n",
              "            style=\"display:none;\">\n",
              "\n",
              "  <svg xmlns=\"http://www.w3.org/2000/svg\" height=\"24px\" viewBox=\"0 -960 960 960\">\n",
              "    <path d=\"M120-120v-720h720v720H120Zm60-500h600v-160H180v160Zm220 220h160v-160H400v160Zm0 220h160v-160H400v160ZM180-400h160v-160H180v160Zm440 0h160v-160H620v160ZM180-180h160v-160H180v160Zm440 0h160v-160H620v160Z\"/>\n",
              "  </svg>\n",
              "    </button>\n",
              "\n",
              "  <style>\n",
              "    .colab-df-container {\n",
              "      display:flex;\n",
              "      gap: 12px;\n",
              "    }\n",
              "\n",
              "    .colab-df-convert {\n",
              "      background-color: #E8F0FE;\n",
              "      border: none;\n",
              "      border-radius: 50%;\n",
              "      cursor: pointer;\n",
              "      display: none;\n",
              "      fill: #1967D2;\n",
              "      height: 32px;\n",
              "      padding: 0 0 0 0;\n",
              "      width: 32px;\n",
              "    }\n",
              "\n",
              "    .colab-df-convert:hover {\n",
              "      background-color: #E2EBFA;\n",
              "      box-shadow: 0px 1px 2px rgba(60, 64, 67, 0.3), 0px 1px 3px 1px rgba(60, 64, 67, 0.15);\n",
              "      fill: #174EA6;\n",
              "    }\n",
              "\n",
              "    .colab-df-buttons div {\n",
              "      margin-bottom: 4px;\n",
              "    }\n",
              "\n",
              "    [theme=dark] .colab-df-convert {\n",
              "      background-color: #3B4455;\n",
              "      fill: #D2E3FC;\n",
              "    }\n",
              "\n",
              "    [theme=dark] .colab-df-convert:hover {\n",
              "      background-color: #434B5C;\n",
              "      box-shadow: 0px 1px 3px 1px rgba(0, 0, 0, 0.15);\n",
              "      filter: drop-shadow(0px 1px 2px rgba(0, 0, 0, 0.3));\n",
              "      fill: #FFFFFF;\n",
              "    }\n",
              "  </style>\n",
              "\n",
              "    <script>\n",
              "      const buttonEl =\n",
              "        document.querySelector('#df-f021e845-63a3-4963-95d8-27c696e0e1b7 button.colab-df-convert');\n",
              "      buttonEl.style.display =\n",
              "        google.colab.kernel.accessAllowed ? 'block' : 'none';\n",
              "\n",
              "      async function convertToInteractive(key) {\n",
              "        const element = document.querySelector('#df-f021e845-63a3-4963-95d8-27c696e0e1b7');\n",
              "        const dataTable =\n",
              "          await google.colab.kernel.invokeFunction('convertToInteractive',\n",
              "                                                    [key], {});\n",
              "        if (!dataTable) return;\n",
              "\n",
              "        const docLinkHtml = 'Like what you see? Visit the ' +\n",
              "          '<a target=\"_blank\" href=https://colab.research.google.com/notebooks/data_table.ipynb>data table notebook</a>'\n",
              "          + ' to learn more about interactive tables.';\n",
              "        element.innerHTML = '';\n",
              "        dataTable['output_type'] = 'display_data';\n",
              "        await google.colab.output.renderOutput(dataTable, element);\n",
              "        const docLink = document.createElement('div');\n",
              "        docLink.innerHTML = docLinkHtml;\n",
              "        element.appendChild(docLink);\n",
              "      }\n",
              "    </script>\n",
              "  </div>\n",
              "\n",
              "\n",
              "<div id=\"df-b9e33384-8456-4a26-a1b1-864aba16a862\">\n",
              "  <button class=\"colab-df-quickchart\" onclick=\"quickchart('df-b9e33384-8456-4a26-a1b1-864aba16a862')\"\n",
              "            title=\"Suggest charts\"\n",
              "            style=\"display:none;\">\n",
              "\n",
              "<svg xmlns=\"http://www.w3.org/2000/svg\" height=\"24px\"viewBox=\"0 0 24 24\"\n",
              "     width=\"24px\">\n",
              "    <g>\n",
              "        <path d=\"M19 3H5c-1.1 0-2 .9-2 2v14c0 1.1.9 2 2 2h14c1.1 0 2-.9 2-2V5c0-1.1-.9-2-2-2zM9 17H7v-7h2v7zm4 0h-2V7h2v10zm4 0h-2v-4h2v4z\"/>\n",
              "    </g>\n",
              "</svg>\n",
              "  </button>\n",
              "\n",
              "<style>\n",
              "  .colab-df-quickchart {\n",
              "      --bg-color: #E8F0FE;\n",
              "      --fill-color: #1967D2;\n",
              "      --hover-bg-color: #E2EBFA;\n",
              "      --hover-fill-color: #174EA6;\n",
              "      --disabled-fill-color: #AAA;\n",
              "      --disabled-bg-color: #DDD;\n",
              "  }\n",
              "\n",
              "  [theme=dark] .colab-df-quickchart {\n",
              "      --bg-color: #3B4455;\n",
              "      --fill-color: #D2E3FC;\n",
              "      --hover-bg-color: #434B5C;\n",
              "      --hover-fill-color: #FFFFFF;\n",
              "      --disabled-bg-color: #3B4455;\n",
              "      --disabled-fill-color: #666;\n",
              "  }\n",
              "\n",
              "  .colab-df-quickchart {\n",
              "    background-color: var(--bg-color);\n",
              "    border: none;\n",
              "    border-radius: 50%;\n",
              "    cursor: pointer;\n",
              "    display: none;\n",
              "    fill: var(--fill-color);\n",
              "    height: 32px;\n",
              "    padding: 0;\n",
              "    width: 32px;\n",
              "  }\n",
              "\n",
              "  .colab-df-quickchart:hover {\n",
              "    background-color: var(--hover-bg-color);\n",
              "    box-shadow: 0 1px 2px rgba(60, 64, 67, 0.3), 0 1px 3px 1px rgba(60, 64, 67, 0.15);\n",
              "    fill: var(--button-hover-fill-color);\n",
              "  }\n",
              "\n",
              "  .colab-df-quickchart-complete:disabled,\n",
              "  .colab-df-quickchart-complete:disabled:hover {\n",
              "    background-color: var(--disabled-bg-color);\n",
              "    fill: var(--disabled-fill-color);\n",
              "    box-shadow: none;\n",
              "  }\n",
              "\n",
              "  .colab-df-spinner {\n",
              "    border: 2px solid var(--fill-color);\n",
              "    border-color: transparent;\n",
              "    border-bottom-color: var(--fill-color);\n",
              "    animation:\n",
              "      spin 1s steps(1) infinite;\n",
              "  }\n",
              "\n",
              "  @keyframes spin {\n",
              "    0% {\n",
              "      border-color: transparent;\n",
              "      border-bottom-color: var(--fill-color);\n",
              "      border-left-color: var(--fill-color);\n",
              "    }\n",
              "    20% {\n",
              "      border-color: transparent;\n",
              "      border-left-color: var(--fill-color);\n",
              "      border-top-color: var(--fill-color);\n",
              "    }\n",
              "    30% {\n",
              "      border-color: transparent;\n",
              "      border-left-color: var(--fill-color);\n",
              "      border-top-color: var(--fill-color);\n",
              "      border-right-color: var(--fill-color);\n",
              "    }\n",
              "    40% {\n",
              "      border-color: transparent;\n",
              "      border-right-color: var(--fill-color);\n",
              "      border-top-color: var(--fill-color);\n",
              "    }\n",
              "    60% {\n",
              "      border-color: transparent;\n",
              "      border-right-color: var(--fill-color);\n",
              "    }\n",
              "    80% {\n",
              "      border-color: transparent;\n",
              "      border-right-color: var(--fill-color);\n",
              "      border-bottom-color: var(--fill-color);\n",
              "    }\n",
              "    90% {\n",
              "      border-color: transparent;\n",
              "      border-bottom-color: var(--fill-color);\n",
              "    }\n",
              "  }\n",
              "</style>\n",
              "\n",
              "  <script>\n",
              "    async function quickchart(key) {\n",
              "      const quickchartButtonEl =\n",
              "        document.querySelector('#' + key + ' button');\n",
              "      quickchartButtonEl.disabled = true;  // To prevent multiple clicks.\n",
              "      quickchartButtonEl.classList.add('colab-df-spinner');\n",
              "      try {\n",
              "        const charts = await google.colab.kernel.invokeFunction(\n",
              "            'suggestCharts', [key], {});\n",
              "      } catch (error) {\n",
              "        console.error('Error during call to suggestCharts:', error);\n",
              "      }\n",
              "      quickchartButtonEl.classList.remove('colab-df-spinner');\n",
              "      quickchartButtonEl.classList.add('colab-df-quickchart-complete');\n",
              "    }\n",
              "    (() => {\n",
              "      let quickchartButtonEl =\n",
              "        document.querySelector('#df-b9e33384-8456-4a26-a1b1-864aba16a862 button');\n",
              "      quickchartButtonEl.style.display =\n",
              "        google.colab.kernel.accessAllowed ? 'block' : 'none';\n",
              "    })();\n",
              "  </script>\n",
              "</div>\n",
              "\n",
              "    </div>\n",
              "  </div>\n"
            ],
            "application/vnd.google.colaboratory.intrinsic+json": {
              "type": "dataframe",
              "variable_name": "data",
              "summary": "{\n  \"name\": \"data\",\n  \"rows\": 1059,\n  \"fields\": [\n    {\n      \"column\": \"pH\",\n      \"properties\": {\n        \"dtype\": \"number\",\n        \"std\": 1.3996789680672697,\n        \"min\": 3.0,\n        \"max\": 9.5,\n        \"num_unique_values\": 16,\n        \"samples\": [\n          6.6,\n          8.5,\n          8.1\n        ],\n        \"semantic_type\": \"\",\n        \"description\": \"\"\n      }\n    },\n    {\n      \"column\": \"Temprature\",\n      \"properties\": {\n        \"dtype\": \"number\",\n        \"std\": 10,\n        \"min\": 34,\n        \"max\": 90,\n        \"num_unique_values\": 17,\n        \"samples\": [\n          35,\n          36,\n          45\n        ],\n        \"semantic_type\": \"\",\n        \"description\": \"\"\n      }\n    },\n    {\n      \"column\": \"Taste\",\n      \"properties\": {\n        \"dtype\": \"number\",\n        \"std\": 0,\n        \"min\": 0,\n        \"max\": 1,\n        \"num_unique_values\": 2,\n        \"samples\": [\n          0,\n          1\n        ],\n        \"semantic_type\": \"\",\n        \"description\": \"\"\n      }\n    },\n    {\n      \"column\": \"Odor\",\n      \"properties\": {\n        \"dtype\": \"number\",\n        \"std\": 0,\n        \"min\": 0,\n        \"max\": 1,\n        \"num_unique_values\": 2,\n        \"samples\": [\n          1,\n          0\n        ],\n        \"semantic_type\": \"\",\n        \"description\": \"\"\n      }\n    },\n    {\n      \"column\": \"Fat \",\n      \"properties\": {\n        \"dtype\": \"number\",\n        \"std\": 0,\n        \"min\": 0,\n        \"max\": 1,\n        \"num_unique_values\": 2,\n        \"samples\": [\n          0,\n          1\n        ],\n        \"semantic_type\": \"\",\n        \"description\": \"\"\n      }\n    },\n    {\n      \"column\": \"Turbidity\",\n      \"properties\": {\n        \"dtype\": \"number\",\n        \"std\": 0,\n        \"min\": 0,\n        \"max\": 1,\n        \"num_unique_values\": 2,\n        \"samples\": [\n          1,\n          0\n        ],\n        \"semantic_type\": \"\",\n        \"description\": \"\"\n      }\n    },\n    {\n      \"column\": \"Colour\",\n      \"properties\": {\n        \"dtype\": \"number\",\n        \"std\": 4,\n        \"min\": 240,\n        \"max\": 255,\n        \"num_unique_values\": 9,\n        \"samples\": [\n          240,\n          253\n        ],\n        \"semantic_type\": \"\",\n        \"description\": \"\"\n      }\n    },\n    {\n      \"column\": \"Grade\",\n      \"properties\": {\n        \"dtype\": \"number\",\n        \"std\": 0,\n        \"min\": 0,\n        \"max\": 2,\n        \"num_unique_values\": 3,\n        \"samples\": [\n          2,\n          0\n        ],\n        \"semantic_type\": \"\",\n        \"description\": \"\"\n      }\n    }\n  ]\n}"
            }
          },
          "metadata": {},
          "execution_count": 8
        }
      ]
    },
    {
      "cell_type": "code",
      "source": [
        "features = ['pH','Temprature','Taste','Odor','Fat ','Turbidity','Colour']\n",
        "x = data[features]\n",
        "y = data['Grade']"
      ],
      "metadata": {
        "id": "hpCdVjwQ9Vxf"
      },
      "execution_count": 9,
      "outputs": []
    },
    {
      "cell_type": "code",
      "source": [
        "min_max_scaler = preprocessing.MinMaxScaler()\n",
        "x_scale = min_max_scaler.fit_transform(x)\n"
      ],
      "metadata": {
        "id": "LvQ8khQf9Y5a"
      },
      "execution_count": 10,
      "outputs": []
    },
    {
      "cell_type": "code",
      "source": [
        "y = to_categorical(y)"
      ],
      "metadata": {
        "id": "Jm3xV7BA9bxa"
      },
      "execution_count": 11,
      "outputs": []
    },
    {
      "cell_type": "code",
      "source": [
        "x_train, x_test, y_train, y_test = train_test_split(x_scale, y, test_size=0.2, random_state=42)"
      ],
      "metadata": {
        "id": "SwN3vhAa9dp_"
      },
      "execution_count": 12,
      "outputs": []
    },
    {
      "cell_type": "code",
      "source": [
        "model = Sequential([\n",
        "    Dense(64, input_dim=len(features), activation='relu'),\n",
        "    Dense(64, activation='relu'),\n",
        "    Dense(3, activation='softmax'),\n",
        "])"
      ],
      "metadata": {
        "id": "p15iQcGg9gvV"
      },
      "execution_count": 13,
      "outputs": []
    },
    {
      "cell_type": "code",
      "source": [
        "model.summary()"
      ],
      "metadata": {
        "colab": {
          "base_uri": "https://localhost:8080/"
        },
        "id": "GSIJz2uK9m1c",
        "outputId": "52179eea-2141-412d-cd36-bae004183bfc"
      },
      "execution_count": 14,
      "outputs": [
        {
          "output_type": "stream",
          "name": "stdout",
          "text": [
            "Model: \"sequential\"\n",
            "_________________________________________________________________\n",
            " Layer (type)                Output Shape              Param #   \n",
            "=================================================================\n",
            " dense (Dense)               (None, 64)                512       \n",
            "                                                                 \n",
            " dense_1 (Dense)             (None, 64)                4160      \n",
            "                                                                 \n",
            " dense_2 (Dense)             (None, 3)                 195       \n",
            "                                                                 \n",
            "=================================================================\n",
            "Total params: 4867 (19.01 KB)\n",
            "Trainable params: 4867 (19.01 KB)\n",
            "Non-trainable params: 0 (0.00 Byte)\n",
            "_________________________________________________________________\n"
          ]
        }
      ]
    },
    {
      "cell_type": "code",
      "source": [
        "model.compile(\n",
        "    optimizer='adam',\n",
        "    loss='categorical_crossentropy',\n",
        "    metrics=['accuracy']\n",
        ")"
      ],
      "metadata": {
        "id": "cDTwU6la9p8-"
      },
      "execution_count": 15,
      "outputs": []
    },
    {
      "cell_type": "code",
      "source": [
        "plot_model(model, show_shapes=True)"
      ],
      "metadata": {
        "colab": {
          "base_uri": "https://localhost:8080/",
          "height": 422
        },
        "id": "wZvTgrEh9sYU",
        "outputId": "8f8746ff-9eb4-4fe9-bcee-f6c499d2f3e6"
      },
      "execution_count": 16,
      "outputs": [
        {
          "output_type": "execute_result",
          "data": {
            "image/png": "[encoded data removed]",
            "text/plain": [
              "<IPython.core.display.Image object>"
            ]
          },
          "metadata": {},
          "execution_count": 16
        }
      ]
    },
    {
      "cell_type": "code",
      "source": [
        "model.fit(x_train, y_train, epochs=100, batch_size=32, validation_split=0.2)"
      ],
      "metadata": {
        "colab": {
          "base_uri": "https://localhost:8080/"
        },
        "id": "S5Q7Y-2J9udV",
        "outputId": "1496ff82-141b-4947-db6b-2c7d32779fb3"
      },
      "execution_count": 17,
      "outputs": [
        {
          "output_type": "stream",
          "name": "stdout",
          "text": [
            "Epoch 1/100\n",
            "22/22 [==============================] - 1s 14ms/step - loss: 1.0444 - accuracy: 0.4092 - val_loss: 1.0216 - val_accuracy: 0.4059\n",
            "Epoch 2/100\n",
            "22/22 [==============================] - 0s 4ms/step - loss: 0.9344 - accuracy: 0.5465 - val_loss: 0.9139 - val_accuracy: 0.5412\n",
            "Epoch 3/100\n",
            "22/22 [==============================] - 0s 3ms/step - loss: 0.8334 - accuracy: 0.6603 - val_loss: 0.8203 - val_accuracy: 0.5471\n",
            "Epoch 4/100\n",
            "22/22 [==============================] - 0s 4ms/step - loss: 0.7427 - accuracy: 0.6470 - val_loss: 0.7375 - val_accuracy: 0.6529\n",
            "Epoch 5/100\n",
            "22/22 [==============================] - 0s 4ms/step - loss: 0.6694 - accuracy: 0.7134 - val_loss: 0.7043 - val_accuracy: 0.6000\n",
            "Epoch 6/100\n",
            "22/22 [==============================] - 0s 4ms/step - loss: 0.6104 - accuracy: 0.7386 - val_loss: 0.6293 - val_accuracy: 0.7529\n",
            "Epoch 7/100\n",
            "22/22 [==============================] - 0s 4ms/step - loss: 0.5502 - accuracy: 0.7607 - val_loss: 0.5665 - val_accuracy: 0.7529\n",
            "Epoch 8/100\n",
            "22/22 [==============================] - 0s 4ms/step - loss: 0.4968 - accuracy: 0.7903 - val_loss: 0.5097 - val_accuracy: 0.7941\n",
            "Epoch 9/100\n",
            "22/22 [==============================] - 0s 4ms/step - loss: 0.4493 - accuracy: 0.8139 - val_loss: 0.4684 - val_accuracy: 0.8059\n",
            "Epoch 10/100\n",
            "22/22 [==============================] - 0s 4ms/step - loss: 0.4191 - accuracy: 0.8272 - val_loss: 0.4487 - val_accuracy: 0.7765\n",
            "Epoch 11/100\n",
            "22/22 [==============================] - 0s 4ms/step - loss: 0.3827 - accuracy: 0.8552 - val_loss: 0.4319 - val_accuracy: 0.7824\n",
            "Epoch 12/100\n",
            "22/22 [==============================] - 0s 5ms/step - loss: 0.3604 - accuracy: 0.8479 - val_loss: 0.3934 - val_accuracy: 0.8765\n",
            "Epoch 13/100\n",
            "22/22 [==============================] - 0s 4ms/step - loss: 0.3373 - accuracy: 0.8863 - val_loss: 0.3750 - val_accuracy: 0.8353\n",
            "Epoch 14/100\n",
            "22/22 [==============================] - 0s 5ms/step - loss: 0.3200 - accuracy: 0.9055 - val_loss: 0.3332 - val_accuracy: 0.9059\n",
            "Epoch 15/100\n",
            "22/22 [==============================] - 0s 3ms/step - loss: 0.2953 - accuracy: 0.9158 - val_loss: 0.3281 - val_accuracy: 0.9294\n",
            "Epoch 16/100\n",
            "22/22 [==============================] - 0s 4ms/step - loss: 0.2874 - accuracy: 0.9099 - val_loss: 0.3063 - val_accuracy: 0.9118\n",
            "Epoch 17/100\n",
            "22/22 [==============================] - 0s 3ms/step - loss: 0.2683 - accuracy: 0.9261 - val_loss: 0.2943 - val_accuracy: 0.9118\n",
            "Epoch 18/100\n",
            "22/22 [==============================] - 0s 3ms/step - loss: 0.2528 - accuracy: 0.9232 - val_loss: 0.2757 - val_accuracy: 0.9235\n",
            "Epoch 19/100\n",
            "22/22 [==============================] - 0s 4ms/step - loss: 0.2405 - accuracy: 0.9380 - val_loss: 0.2723 - val_accuracy: 0.9294\n",
            "Epoch 20/100\n",
            "22/22 [==============================] - 0s 4ms/step - loss: 0.2331 - accuracy: 0.9380 - val_loss: 0.2552 - val_accuracy: 0.9294\n",
            "Epoch 21/100\n",
            "22/22 [==============================] - 0s 5ms/step - loss: 0.2278 - accuracy: 0.9424 - val_loss: 0.2379 - val_accuracy: 0.9176\n",
            "Epoch 22/100\n",
            "22/22 [==============================] - 0s 5ms/step - loss: 0.2107 - accuracy: 0.9380 - val_loss: 0.2318 - val_accuracy: 0.9294\n",
            "Epoch 23/100\n",
            "22/22 [==============================] - 0s 5ms/step - loss: 0.2039 - accuracy: 0.9409 - val_loss: 0.2316 - val_accuracy: 0.9294\n",
            "Epoch 24/100\n",
            "22/22 [==============================] - 0s 3ms/step - loss: 0.2056 - accuracy: 0.9321 - val_loss: 0.2289 - val_accuracy: 0.9294\n",
            "Epoch 25/100\n",
            "22/22 [==============================] - 0s 3ms/step - loss: 0.1868 - accuracy: 0.9380 - val_loss: 0.2258 - val_accuracy: 0.9176\n",
            "Epoch 26/100\n",
            "22/22 [==============================] - 0s 3ms/step - loss: 0.1809 - accuracy: 0.9409 - val_loss: 0.2205 - val_accuracy: 0.9412\n",
            "Epoch 27/100\n",
            "22/22 [==============================] - 0s 4ms/step - loss: 0.1752 - accuracy: 0.9483 - val_loss: 0.2033 - val_accuracy: 0.9412\n",
            "Epoch 28/100\n",
            "22/22 [==============================] - 0s 4ms/step - loss: 0.1659 - accuracy: 0.9453 - val_loss: 0.1994 - val_accuracy: 0.9412\n",
            "Epoch 29/100\n",
            "22/22 [==============================] - 0s 3ms/step - loss: 0.1602 - accuracy: 0.9453 - val_loss: 0.1955 - val_accuracy: 0.9412\n",
            "Epoch 30/100\n",
            "22/22 [==============================] - 0s 4ms/step - loss: 0.1588 - accuracy: 0.9424 - val_loss: 0.1828 - val_accuracy: 0.9412\n",
            "Epoch 31/100\n",
            "22/22 [==============================] - 0s 4ms/step - loss: 0.1489 - accuracy: 0.9453 - val_loss: 0.1830 - val_accuracy: 0.9412\n",
            "Epoch 32/100\n",
            "22/22 [==============================] - 0s 4ms/step - loss: 0.1428 - accuracy: 0.9527 - val_loss: 0.1776 - val_accuracy: 0.9176\n",
            "Epoch 33/100\n",
            "22/22 [==============================] - 0s 5ms/step - loss: 0.1442 - accuracy: 0.9439 - val_loss: 0.1765 - val_accuracy: 0.9412\n",
            "Epoch 34/100\n",
            "22/22 [==============================] - 0s 5ms/step - loss: 0.1390 - accuracy: 0.9453 - val_loss: 0.1724 - val_accuracy: 0.9471\n",
            "Epoch 35/100\n",
            "22/22 [==============================] - 0s 4ms/step - loss: 0.1336 - accuracy: 0.9586 - val_loss: 0.1702 - val_accuracy: 0.9471\n",
            "Epoch 36/100\n",
            "22/22 [==============================] - 0s 4ms/step - loss: 0.1308 - accuracy: 0.9527 - val_loss: 0.1676 - val_accuracy: 0.9471\n",
            "Epoch 37/100\n",
            "22/22 [==============================] - 0s 3ms/step - loss: 0.1260 - accuracy: 0.9557 - val_loss: 0.1707 - val_accuracy: 0.9471\n",
            "Epoch 38/100\n",
            "22/22 [==============================] - 0s 3ms/step - loss: 0.1324 - accuracy: 0.9557 - val_loss: 0.1701 - val_accuracy: 0.9412\n",
            "Epoch 39/100\n",
            "22/22 [==============================] - 0s 3ms/step - loss: 0.1227 - accuracy: 0.9616 - val_loss: 0.1690 - val_accuracy: 0.9471\n",
            "Epoch 40/100\n",
            "22/22 [==============================] - 0s 4ms/step - loss: 0.1221 - accuracy: 0.9616 - val_loss: 0.1592 - val_accuracy: 0.9471\n",
            "Epoch 41/100\n",
            "22/22 [==============================] - 0s 4ms/step - loss: 0.1177 - accuracy: 0.9572 - val_loss: 0.1555 - val_accuracy: 0.9235\n",
            "Epoch 42/100\n",
            "22/22 [==============================] - 0s 4ms/step - loss: 0.1159 - accuracy: 0.9557 - val_loss: 0.1617 - val_accuracy: 0.9471\n",
            "Epoch 43/100\n",
            "22/22 [==============================] - 0s 4ms/step - loss: 0.1142 - accuracy: 0.9542 - val_loss: 0.1516 - val_accuracy: 0.9235\n",
            "Epoch 44/100\n",
            "22/22 [==============================] - 0s 6ms/step - loss: 0.1272 - accuracy: 0.9542 - val_loss: 0.1573 - val_accuracy: 0.9471\n",
            "Epoch 45/100\n",
            "22/22 [==============================] - 0s 4ms/step - loss: 0.1110 - accuracy: 0.9586 - val_loss: 0.1603 - val_accuracy: 0.9471\n",
            "Epoch 46/100\n",
            "22/22 [==============================] - 0s 4ms/step - loss: 0.1130 - accuracy: 0.9557 - val_loss: 0.1472 - val_accuracy: 0.9471\n",
            "Epoch 47/100\n",
            "22/22 [==============================] - 0s 3ms/step - loss: 0.1062 - accuracy: 0.9513 - val_loss: 0.1530 - val_accuracy: 0.9471\n",
            "Epoch 48/100\n",
            "22/22 [==============================] - 0s 4ms/step - loss: 0.1096 - accuracy: 0.9527 - val_loss: 0.1501 - val_accuracy: 0.9471\n",
            "Epoch 49/100\n",
            "22/22 [==============================] - 0s 3ms/step - loss: 0.1082 - accuracy: 0.9513 - val_loss: 0.1480 - val_accuracy: 0.9471\n",
            "Epoch 50/100\n",
            "22/22 [==============================] - 0s 3ms/step - loss: 0.1044 - accuracy: 0.9616 - val_loss: 0.1476 - val_accuracy: 0.9471\n",
            "Epoch 51/100\n",
            "22/22 [==============================] - 0s 4ms/step - loss: 0.1040 - accuracy: 0.9557 - val_loss: 0.1463 - val_accuracy: 0.9471\n",
            "Epoch 52/100\n",
            "22/22 [==============================] - 0s 5ms/step - loss: 0.1047 - accuracy: 0.9586 - val_loss: 0.1446 - val_accuracy: 0.9471\n",
            "Epoch 53/100\n",
            "22/22 [==============================] - 0s 4ms/step - loss: 0.1002 - accuracy: 0.9542 - val_loss: 0.1443 - val_accuracy: 0.9471\n",
            "Epoch 54/100\n",
            "22/22 [==============================] - 0s 5ms/step - loss: 0.0989 - accuracy: 0.9557 - val_loss: 0.1466 - val_accuracy: 0.9471\n",
            "Epoch 55/100\n",
            "22/22 [==============================] - 0s 5ms/step - loss: 0.1007 - accuracy: 0.9572 - val_loss: 0.1442 - val_accuracy: 0.9471\n",
            "Epoch 56/100\n",
            "22/22 [==============================] - 0s 4ms/step - loss: 0.1077 - accuracy: 0.9631 - val_loss: 0.1573 - val_accuracy: 0.9471\n",
            "Epoch 57/100\n",
            "22/22 [==============================] - 0s 4ms/step - loss: 0.1062 - accuracy: 0.9439 - val_loss: 0.1411 - val_accuracy: 0.9471\n",
            "Epoch 58/100\n",
            "22/22 [==============================] - 0s 3ms/step - loss: 0.0978 - accuracy: 0.9572 - val_loss: 0.1459 - val_accuracy: 0.9471\n",
            "Epoch 59/100\n",
            "22/22 [==============================] - 0s 3ms/step - loss: 0.0954 - accuracy: 0.9572 - val_loss: 0.1399 - val_accuracy: 0.9471\n",
            "Epoch 60/100\n",
            "22/22 [==============================] - 0s 4ms/step - loss: 0.0971 - accuracy: 0.9586 - val_loss: 0.1519 - val_accuracy: 0.9235\n",
            "Epoch 61/100\n",
            "22/22 [==============================] - 0s 3ms/step - loss: 0.1006 - accuracy: 0.9542 - val_loss: 0.1397 - val_accuracy: 0.9471\n",
            "Epoch 62/100\n",
            "22/22 [==============================] - 0s 3ms/step - loss: 0.0942 - accuracy: 0.9527 - val_loss: 0.1414 - val_accuracy: 0.9235\n",
            "Epoch 63/100\n",
            "22/22 [==============================] - 0s 5ms/step - loss: 0.0906 - accuracy: 0.9557 - val_loss: 0.1404 - val_accuracy: 0.9471\n",
            "Epoch 64/100\n",
            "22/22 [==============================] - 0s 4ms/step - loss: 0.0935 - accuracy: 0.9513 - val_loss: 0.1444 - val_accuracy: 0.9471\n",
            "Epoch 65/100\n",
            "22/22 [==============================] - 0s 5ms/step - loss: 0.0962 - accuracy: 0.9557 - val_loss: 0.1507 - val_accuracy: 0.9471\n",
            "Epoch 66/100\n",
            "22/22 [==============================] - 0s 4ms/step - loss: 0.0960 - accuracy: 0.9645 - val_loss: 0.1385 - val_accuracy: 0.9471\n",
            "Epoch 67/100\n",
            "22/22 [==============================] - 0s 4ms/step - loss: 0.0887 - accuracy: 0.9572 - val_loss: 0.1428 - val_accuracy: 0.9471\n",
            "Epoch 68/100\n",
            "22/22 [==============================] - 0s 5ms/step - loss: 0.0902 - accuracy: 0.9616 - val_loss: 0.1471 - val_accuracy: 0.9471\n",
            "Epoch 69/100\n",
            "22/22 [==============================] - 0s 5ms/step - loss: 0.0893 - accuracy: 0.9616 - val_loss: 0.1403 - val_accuracy: 0.9471\n",
            "Epoch 70/100\n",
            "22/22 [==============================] - 0s 5ms/step - loss: 0.0852 - accuracy: 0.9572 - val_loss: 0.1398 - val_accuracy: 0.9471\n",
            "Epoch 71/100\n",
            "22/22 [==============================] - 0s 5ms/step - loss: 0.0865 - accuracy: 0.9586 - val_loss: 0.1400 - val_accuracy: 0.9471\n",
            "Epoch 72/100\n",
            "22/22 [==============================] - 0s 7ms/step - loss: 0.0868 - accuracy: 0.9601 - val_loss: 0.1469 - val_accuracy: 0.9471\n",
            "Epoch 73/100\n",
            "22/22 [==============================] - 0s 8ms/step - loss: 0.0836 - accuracy: 0.9572 - val_loss: 0.1377 - val_accuracy: 0.9235\n",
            "Epoch 74/100\n",
            "22/22 [==============================] - 0s 5ms/step - loss: 0.0849 - accuracy: 0.9542 - val_loss: 0.1374 - val_accuracy: 0.9235\n",
            "Epoch 75/100\n",
            "22/22 [==============================] - 0s 6ms/step - loss: 0.0827 - accuracy: 0.9527 - val_loss: 0.1420 - val_accuracy: 0.9471\n",
            "Epoch 76/100\n",
            "22/22 [==============================] - 0s 5ms/step - loss: 0.0851 - accuracy: 0.9616 - val_loss: 0.1458 - val_accuracy: 0.9647\n",
            "Epoch 77/100\n",
            "22/22 [==============================] - 0s 5ms/step - loss: 0.0853 - accuracy: 0.9586 - val_loss: 0.1376 - val_accuracy: 0.9471\n",
            "Epoch 78/100\n",
            "22/22 [==============================] - 0s 5ms/step - loss: 0.0846 - accuracy: 0.9586 - val_loss: 0.1496 - val_accuracy: 0.9471\n",
            "Epoch 79/100\n",
            "22/22 [==============================] - 0s 5ms/step - loss: 0.0890 - accuracy: 0.9601 - val_loss: 0.1399 - val_accuracy: 0.9471\n",
            "Epoch 80/100\n",
            "22/22 [==============================] - 0s 6ms/step - loss: 0.0860 - accuracy: 0.9527 - val_loss: 0.1389 - val_accuracy: 0.9471\n",
            "Epoch 81/100\n",
            "22/22 [==============================] - 0s 7ms/step - loss: 0.0855 - accuracy: 0.9557 - val_loss: 0.1485 - val_accuracy: 0.9471\n",
            "Epoch 82/100\n",
            "22/22 [==============================] - 0s 7ms/step - loss: 0.0916 - accuracy: 0.9542 - val_loss: 0.1372 - val_accuracy: 0.9471\n",
            "Epoch 83/100\n",
            "22/22 [==============================] - 0s 6ms/step - loss: 0.0831 - accuracy: 0.9645 - val_loss: 0.1398 - val_accuracy: 0.9471\n",
            "Epoch 84/100\n",
            "22/22 [==============================] - 0s 6ms/step - loss: 0.0828 - accuracy: 0.9601 - val_loss: 0.1399 - val_accuracy: 0.9471\n",
            "Epoch 85/100\n",
            "22/22 [==============================] - 0s 6ms/step - loss: 0.0787 - accuracy: 0.9542 - val_loss: 0.1348 - val_accuracy: 0.9471\n",
            "Epoch 86/100\n",
            "22/22 [==============================] - 0s 6ms/step - loss: 0.0774 - accuracy: 0.9631 - val_loss: 0.1398 - val_accuracy: 0.9471\n",
            "Epoch 87/100\n",
            "22/22 [==============================] - 0s 8ms/step - loss: 0.0754 - accuracy: 0.9586 - val_loss: 0.1393 - val_accuracy: 0.9471\n",
            "Epoch 88/100\n",
            "22/22 [==============================] - 0s 7ms/step - loss: 0.0779 - accuracy: 0.9557 - val_loss: 0.1345 - val_accuracy: 0.9471\n",
            "Epoch 89/100\n",
            "22/22 [==============================] - 0s 6ms/step - loss: 0.0784 - accuracy: 0.9557 - val_loss: 0.1356 - val_accuracy: 0.9235\n",
            "Epoch 90/100\n",
            "22/22 [==============================] - 0s 6ms/step - loss: 0.0815 - accuracy: 0.9586 - val_loss: 0.1483 - val_accuracy: 0.9471\n",
            "Epoch 91/100\n",
            "22/22 [==============================] - 0s 5ms/step - loss: 0.0848 - accuracy: 0.9557 - val_loss: 0.1370 - val_accuracy: 0.9235\n",
            "Epoch 92/100\n",
            "22/22 [==============================] - 0s 3ms/step - loss: 0.0773 - accuracy: 0.9572 - val_loss: 0.1333 - val_accuracy: 0.9471\n",
            "Epoch 93/100\n",
            "22/22 [==============================] - 0s 4ms/step - loss: 0.0774 - accuracy: 0.9645 - val_loss: 0.1345 - val_accuracy: 0.9471\n",
            "Epoch 94/100\n",
            "22/22 [==============================] - 0s 4ms/step - loss: 0.0752 - accuracy: 0.9572 - val_loss: 0.1343 - val_accuracy: 0.9471\n",
            "Epoch 95/100\n",
            "22/22 [==============================] - 0s 4ms/step - loss: 0.0767 - accuracy: 0.9631 - val_loss: 0.1374 - val_accuracy: 0.9471\n",
            "Epoch 96/100\n",
            "22/22 [==============================] - 0s 6ms/step - loss: 0.0744 - accuracy: 0.9601 - val_loss: 0.1334 - val_accuracy: 0.9235\n",
            "Epoch 97/100\n",
            "22/22 [==============================] - 0s 4ms/step - loss: 0.0729 - accuracy: 0.9542 - val_loss: 0.1385 - val_accuracy: 0.9471\n",
            "Epoch 98/100\n",
            "22/22 [==============================] - 0s 4ms/step - loss: 0.0795 - accuracy: 0.9645 - val_loss: 0.1346 - val_accuracy: 0.9471\n",
            "Epoch 99/100\n",
            "22/22 [==============================] - 0s 3ms/step - loss: 0.0719 - accuracy: 0.9557 - val_loss: 0.1284 - val_accuracy: 0.9471\n",
            "Epoch 100/100\n",
            "22/22 [==============================] - 0s 4ms/step - loss: 0.0718 - accuracy: 0.9645 - val_loss: 0.1321 - val_accuracy: 0.9471\n"
          ]
        },
        {
          "output_type": "execute_result",
          "data": {
            "text/plain": [
              "<keras.src.callbacks.History at 0x7a0e30acd000>"
            ]
          },
          "metadata": {},
          "execution_count": 17
        }
      ]
    },
    {
      "cell_type": "code",
      "source": [
        "score = model.evaluate(x_test, y_test)\n",
        "print('Akurasi = ', score[1])"
      ],
      "metadata": {
        "colab": {
          "base_uri": "https://localhost:8080/"
        },
        "id": "sjEztN2-9xJI",
        "outputId": "e9862c80-da5c-4f5b-ea6f-d01c278b88dd"
      },
      "execution_count": 18,
      "outputs": [
        {
          "output_type": "stream",
          "name": "stdout",
          "text": [
            "7/7 [==============================] - 0s 6ms/step - loss: 0.0929 - accuracy: 0.9434\n",
            "Akurasi =  0.9433962106704712\n"
          ]
        }
      ]
    },
    {
      "cell_type": "code",
      "source": [
        "def predict_milk_quality(model, x):\n",
        "    predictions = model.predict(x)\n",
        "    predicted_classes = np.argmax(predictions, axis=1)\n",
        "    return ['low' if pred == 0 else 'medium' if pred == 1 else 'high' for pred in predicted_classes]"
      ],
      "metadata": {
        "id": "mu8y968B-zot"
      },
      "execution_count": 22,
      "outputs": []
    },
    {
      "cell_type": "code",
      "source": [
        "def get_user_input():\n",
        "    print(\"Masukkan nilai untuk setiap fitur berikut:\")\n",
        "    pH = float(input(\"pH: \"))\n",
        "    temperature = float(input(\"Temperature: \"))\n",
        "    taste = int(input(\"Taste (0: Normal, 1: Abnormal): \"))\n",
        "    odor = int(input(\"Odor (0: Normal, 1: Abnormal): \"))\n",
        "    fat = int(input(\"Fat (0: Low, 1: High): \"))\n",
        "    turbidity = int(input(\"Turbidity (0: Low, 1: High): \"))\n",
        "    colour = int(input(\"Colour (240-320): \"))\n",
        "\n",
        "    user_input = np.array([[pH, temperature, taste, odor, fat, turbidity, colour]])\n",
        "    return user_input"
      ],
      "metadata": {
        "id": "sioKgI_N97Jb"
      },
      "execution_count": 23,
      "outputs": []
    },
    {
      "cell_type": "code",
      "source": [
        "def predict_user_input(model, scaler):\n",
        "    user_input = get_user_input()\n",
        "    user_input_scaled = scaler.transform(user_input)\n",
        "    predicted_quality = predict_milk_quality(model, user_input_scaled)\n",
        "    print('Predicted quality:', predicted_quality[0])"
      ],
      "metadata": {
        "id": "2Y11sEUc-TUo"
      },
      "execution_count": 24,
      "outputs": []
    },
    {
      "cell_type": "code",
      "source": [
        "predict_user_input(model, min_max_scaler)"
      ],
      "metadata": {
        "colab": {
          "base_uri": "https://localhost:8080/"
        },
        "id": "udFMGIlu-XBk",
        "outputId": "c781328c-4d46-4a9c-9fb1-06472b402389"
      },
      "execution_count": 31,
      "outputs": [
        {
          "output_type": "stream",
          "name": "stdout",
          "text": [
            "Masukkan nilai untuk setiap fitur berikut:\n",
            "pH: 6.6\n",
            "Temperature: 37\n",
            "Taste (0: Normal, 1: Abnormal): 1\n",
            "Odor (0: Normal, 1: Abnormal): 0\n",
            "Fat (0: Low, 1: High): 1\n",
            "Turbidity (0: Low, 1: High): 0\n",
            "Colour (240-320): 254\n",
            "1/1 [==============================] - 0s 20ms/step\n",
            "Predicted quality: high\n"
          ]
        },
        {
          "output_type": "stream",
          "name": "stderr",
          "text": [
            "/usr/local/lib/python3.10/dist-packages/sklearn/base.py:439: UserWarning: X does not have valid feature names, but MinMaxScaler was fitted with feature names\n",
            "  warnings.warn(\n"
          ]
        }
      ]
    },
    {
      "cell_type": "code",
      "source": [
        "predict_user_input(model, min_max_scaler)"
      ],
      "metadata": {
        "colab": {
          "base_uri": "https://localhost:8080/"
        },
        "id": "61SryeQb-ZwV",
        "outputId": "d998be01-4751-470d-c18f-ebaabf484a1a"
      },
      "execution_count": 32,
      "outputs": [
        {
          "output_type": "stream",
          "name": "stdout",
          "text": [
            "Masukkan nilai untuk setiap fitur berikut:\n",
            "pH: 8.5\n",
            "Temperature: 70\n",
            "Taste (0: Normal, 1: Abnormal): 1\n",
            "Odor (0: Normal, 1: Abnormal): 1\n",
            "Fat (0: Low, 1: High): 1\n",
            "Turbidity (0: Low, 1: High): 1\n",
            "Colour (240-320): 246\n",
            "1/1 [==============================] - 0s 21ms/step\n",
            "Predicted quality: low\n"
          ]
        },
        {
          "output_type": "stream",
          "name": "stderr",
          "text": [
            "/usr/local/lib/python3.10/dist-packages/sklearn/base.py:439: UserWarning: X does not have valid feature names, but MinMaxScaler was fitted with feature names\n",
            "  warnings.warn(\n"
          ]
        }
      ]
    },
    {
      "cell_type": "code",
      "source": [
        "model.save('milk.h5')"
      ],
      "metadata": {
        "colab": {
          "base_uri": "https://localhost:8080/"
        },
        "id": "n7efFglP_viJ",
        "outputId": "479c3e42-4650-450f-acbe-375033ca9257"
      },
      "execution_count": 33,
      "outputs": [
        {
          "output_type": "stream",
          "name": "stderr",
          "text": [
            "/usr/local/lib/python3.10/dist-packages/keras/src/engine/training.py:3103: UserWarning: You are saving your model as an HDF5 file via `model.save()`. This file format is considered legacy. We recommend using instead the native Keras format, e.g. `model.save('my_model.keras')`.\n",
            "  saving_api.save_model(\n"
          ]
        }
      ]
    },
    {
      "cell_type": "code",
      "source": [
        "model = tf.keras.models.load_model('./milk.h5')\n",
        "converter = tf.lite.TFLiteConverter.from_keras_model(model)\n",
        "converter.optimizations = [tf.lite.Optimize.DEFAULT]\n",
        "tflite_model = converter.convert()\n",
        "open(\"./milk.tflite\", \"wb\").write(tflite_model)"
      ],
      "metadata": {
        "colab": {
          "base_uri": "https://localhost:8080/"
        },
        "id": "W8dFzB_Y_1g_",
        "outputId": "58e83736-10a6-4348-ab8e-8e97b86249a2"
      },
      "execution_count": 34,
      "outputs": [
        {
          "output_type": "execute_result",
          "data": {
            "text/plain": [
              "9376"
            ]
          },
          "metadata": {},
          "execution_count": 34
        }
      ]
    },
    {
      "cell_type": "code",
      "source": [],
      "metadata": {
        "id": "1WXXJ_st_2M0"
      },
      "execution_count": null,
      "outputs": []
    }
  ]
}